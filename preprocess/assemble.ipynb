{
 "cells": [
  {
   "cell_type": "code",
   "execution_count": null,
   "metadata": {},
   "outputs": [],
   "source": [
    "import numpy as np\n",
    "import matplotlib.pyplot as plt\n",
    "import zlib\n",
    "import pickle\n",
    "\n",
    "data_0 = np.load('C:\\\\Users\\\\GUO\\\\Downloads\\\\0.pkl', allow_pickle=True)\n",
    "data_1 = np.load('C:\\\\Users\\\\GUO\\\\Downloads\\\\1.pkl', allow_pickle=True)\n",
    "data_2 = np.load('C:\\\\Users\\\\GUO\\\\Downloads\\\\2.pkl', allow_pickle=True)\n",
    "data_3 = np.load('C:\\\\Users\\\\GUO\\\\Downloads\\\\3.pkl', allow_pickle=True)\n",
    "data_4 = np.load('C:\\\\Users\\\\GUO\\\\Downloads\\\\4.pkl', allow_pickle=True)\n",
    "data_5 = np.load('C:\\\\Users\\\\GUO\\\\Downloads\\\\5.pkl', allow_pickle=True)\n",
    "\n",
    "train = data_0 + data_1 + data_2 + data_3 + data_4 + data_5"
   ]
  },
  {
   "cell_type": "code",
   "execution_count": null,
   "metadata": {},
   "outputs": [],
   "source": [
    "with open('C:\\\\Users\\\\GUO\\\\Downloads\\\\train.pkl', 'wb') as f:\n",
    "    pickle.dump(train, f)"
   ]
  },
  {
   "cell_type": "code",
   "execution_count": null,
   "metadata": {},
   "outputs": [],
   "source": [
    "img = pickle.loads(zlib.decompress(train[10]))\n",
    "plt.figure(figsize=(10,10))\n",
    "plt.imshow(img.astype(np.float32), 'gray')\n",
    "plt.show()"
   ]
  }
 ],
 "metadata": {
  "kernelspec": {
   "display_name": "Python 3.8.13 ('holo')",
   "language": "python",
   "name": "python3"
  },
  "language_info": {
   "name": "python",
   "version": "3.8.13"
  },
  "orig_nbformat": 4,
  "vscode": {
   "interpreter": {
    "hash": "5d1466d5ae9833617e43c5f165a59b7e9d0681bdbaa9cccbb619e7090a879a22"
   }
  }
 },
 "nbformat": 4,
 "nbformat_minor": 2
}

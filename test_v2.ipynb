{
 "cells": [
  {
   "cell_type": "code",
   "execution_count": null,
   "metadata": {},
   "outputs": [],
   "source": [
    "import os\n",
    "os.environ['CUDA_VISIBLE_DEVICES'] = '1'\n",
    "import torch\n",
    "import matplotlib.pyplot as plt\n",
    "import numpy as np\n",
    "import cv2\n",
    "import random\n",
    "from model.v2 import Model, N, M\n",
    "from train_v2 import NumpyDataset\n",
    "from torch.utils.data import Dataset\n",
    "import cv2\n",
    "import torch.nn as nn\n",
    "\n",
    "\n",
    "seed = 0\n",
    "torch.manual_seed(seed)\n",
    "torch.cuda.manual_seed(seed)\n",
    "torch.cuda.manual_seed_all(seed)\n",
    "np.random.seed(seed)\n",
    "random.seed(seed)\n",
    "\n",
    "\n",
    "model = Model().cuda()\n",
    "ckpt = torch.load('./ckpt/best.pth')\n",
    "model.load_state_dict(ckpt)\n",
    "model.eval()\n",
    "print('model loaded')"
   ]
  },
  {
   "cell_type": "code",
   "execution_count": null,
   "metadata": {},
   "outputs": [],
   "source": [
    "valset = NumpyDataset('/data/gzy/anime/anime_val.pkl')\n",
    "valset.data_list = valset.data_list[0:1000]"
   ]
  },
  {
   "cell_type": "code",
   "execution_count": null,
   "metadata": {},
   "outputs": [],
   "source": [
    "idx = 120"
   ]
  },
  {
   "cell_type": "code",
   "execution_count": null,
   "metadata": {},
   "outputs": [],
   "source": [
    "input, label = valset[idx]\n",
    "idx = idx + 1\n",
    "input = torch.tensor(input).cuda()\n",
    "label = torch.tensor(label).cuda()\n",
    "\n",
    "norm = nn.LayerNorm([N, M], elementwise_affine=False)\n",
    "\n",
    "phase, reconstruction = model(input)\n",
    "\n",
    "reconstruction = norm(reconstruction[0, 0]).detach().cpu().numpy()\n",
    "reconstruction = reconstruction - reconstruction.min()\n",
    "\n",
    "plt.figure(figsize=(15,5))\n",
    "ax1 = plt.subplot(131)\n",
    "plt.imshow(input[0, 0].detach().cpu().numpy(), 'gray')\n",
    "ax2 = plt.subplot(132)\n",
    "plt.imshow(phase[0, 0].detach().cpu().numpy(), 'gray')\n",
    "ax3 = plt.subplot(133)\n",
    "plt.imshow(reconstruction, 'gray', vmax=1.0)\n",
    "plt.show()"
   ]
  }
 ],
 "metadata": {
  "kernelspec": {
   "display_name": "Python 3.8.13 ('holo')",
   "language": "python",
   "name": "python3"
  },
  "language_info": {
   "name": "python",
   "version": "3.8.13"
  },
  "orig_nbformat": 4,
  "vscode": {
   "interpreter": {
    "hash": "5d1466d5ae9833617e43c5f165a59b7e9d0681bdbaa9cccbb619e7090a879a22"
   }
  }
 },
 "nbformat": 4,
 "nbformat_minor": 2
}
